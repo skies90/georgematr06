{
 "cells": [
  {
   "cell_type": "code",
   "execution_count": 2,
   "metadata": {},
   "outputs": [],
   "source": [
    "import pandas as pd\n",
    "from sklearn.linear_model import LinearRegression\n",
    "import numpy as np\n",
    "from sklearn.model_selection import train_test_split\n",
    "import time\n",
    "from matplotlib import pyplot as plt"
   ]
  },
  {
   "cell_type": "code",
   "execution_count": 17,
   "metadata": {},
   "outputs": [
    {
     "name": "stderr",
     "output_type": "stream",
     "text": [
      "<ipython-input-17-cf4c31ab693f>:12: FutureWarning: Support for multi-dimensional indexing (e.g. `obj[:, None]`) is deprecated and will be removed in a future version.  Convert to a numpy array before indexing instead.\n",
      "  X = X[np.newaxis,:]\n",
      "<ipython-input-17-cf4c31ab693f>:18: FutureWarning: Support for multi-dimensional indexing (e.g. `obj[:, None]`) is deprecated and will be removed in a future version.  Convert to a numpy array before indexing instead.\n",
      "  y = y[np.newaxis,:]\n"
     ]
    },
    {
     "name": "stdout",
     "output_type": "stream",
     "text": [
      "Mean absolute error = 1.49\n",
      "Mean squared error = 3.66\n",
      "Median absolute error = 1.19\n",
      "Explain variance score = -46.66\n",
      "R2 score = -46.69\n",
      "[[-3.98797457e+13  1.13826530e+13]]\n"
     ]
    },
    {
     "data": {
      "image/png": "[encoded data removed]",
      "text/plain": [
       "<Figure size 432x288 with 1 Axes>"
      ]
     },
     "metadata": {
      "needs_background": "light"
     },
     "output_type": "display_data"
    },
    {
     "data": {
      "text/plain": [
       "<__main__.visualisation at 0x19b6da35880>"
      ]
     },
     "execution_count": 17,
     "metadata": {},
     "output_type": "execute_result"
    }
   ],
   "source": [
    "#import the data\n",
    "data = pd.read_csv(\"monthly_csv.csv\")\n",
    "model = LinearRegression()\n",
    "X = data['Month']\n",
    "y = data['Price']\n",
    "\n",
    "#clean the data\n",
    "data['Month'] = data['Month'].str.replace('-', '.')\n",
    "data['Month'] = data['Month'].to_numpy()\n",
    "\n",
    "#Creating a new axis for converting into 2D array\n",
    "X = X[np.newaxis,:]\n",
    "\n",
    "#data reshaping into 2D from 1D array\n",
    "X = np.reshape(X, (142,2))\n",
    "\n",
    "#Creating a new axis for converting y into 2D array\n",
    "y = y[np.newaxis,:]\n",
    "# Data reshaping into 2D from 1D array for y\n",
    "y = np.reshape(y, (142,2))\n",
    "\n",
    "#split the data\n",
    "X_train, X_test, y_train, y_test = train_test_split(X, y, test_size=0.2)\n",
    "\n",
    "#train the model\n",
    "model.fit(X_train, y_train)\n",
    "\n",
    "#use the trained model to make a prediction\n",
    "pred = model.predict(X_test)\n",
    "\n",
    "class custome_pred:\n",
    "    pred1 = model.predict([[2021, 202002]])\n",
    "    \n",
    "import sklearn.metrics as sm\n",
    "print(\"Mean absolute error =\", round(sm.mean_absolute_error(pred, y_test), 2)) \n",
    "print(\"Mean squared error =\", round(sm.mean_squared_error(pred, y_test), 2)) \n",
    "print(\"Median absolute error =\", round(sm.median_absolute_error(pred, y_test), 2)) \n",
    "print(\"Explain variance score =\", round(sm.explained_variance_score(pred, y_test), 2)) \n",
    "print(\"R2 score =\", round(sm.r2_score(pred, y_test), 2))\n",
    "\n",
    "print(custome_pred.pred1)\n",
    "\n",
    "class visualisation:\n",
    "    import pandas as pd\n",
    "    from matplotlib import pyplot as plt\n",
    "    \n",
    "    data = pd.read_csv(\"monthly_csv.csv\")\n",
    "    data['Month'] = data['Month'].str.replace('-', '.')\n",
    "    \n",
    "    X = data['Month']\n",
    "    y = data['Price']\n",
    "    \n",
    "    plt.title('Visualisation')\n",
    "    plt.xlabel('Month')\n",
    "    plt.ylabel('Price')\n",
    "    plt.plot(X,y)\n",
    "    plt.show()\n",
    "\n",
    "visualisation()"
   ]
  },
  {
   "cell_type": "code",
   "execution_count": 19,
   "metadata": {},
   "outputs": [
    {
     "name": "stdout",
     "output_type": "stream",
     "text": [
      "58\n",
      "58\n"
     ]
    }
   ],
   "source": []
  },
  {
   "cell_type": "code",
   "execution_count": 13,
   "metadata": {},
   "outputs": [
    {
     "name": "stdout",
     "output_type": "stream",
     "text": [
      "[[4.08386408 4.15242326]\n",
      " [3.62292658 3.60359513]\n",
      " [4.55066095 4.70906388]\n",
      " [4.04089533 4.10164201]\n",
      " [4.45495783 4.59578263]\n",
      " [4.54870783 4.70515763]\n",
      " [3.76159845 3.76570451]\n",
      " [4.17566095 4.26179826]\n",
      " [4.31628595 4.42976701]\n",
      " [3.80652033 3.82234513]\n",
      " [3.7186297  3.71882951]\n",
      " [4.2733172  4.37703263]\n",
      " [3.71472345 3.71297013]\n",
      " [3.94714533 3.99031388]\n",
      " [3.85339533 3.87703263]\n",
      " [3.57995783 3.55086076]\n",
      " [4.12878595 4.20711076]\n",
      " [4.18152033 4.26765763]\n",
      " [4.12878595 4.20906388]\n",
      " [4.26745783 4.37117326]\n",
      " [4.45691095 4.59578263]\n",
      " [4.22448908 4.32039201]\n",
      " [4.5467547  4.70515763]\n",
      " [3.6717547  3.66023576]\n",
      " [4.6405047  4.81648576]\n",
      " [3.6717547  3.66218888]\n",
      " [3.66980158 3.65632951]\n",
      " [4.2264422  4.32234513]\n",
      " [4.50183283 4.65047013]]\n",
      "[[ 3.66  5.35]\n",
      " [ 2.37  2.22]\n",
      " [ 1.85  1.77]\n",
      " [ 4.29  4.03]\n",
      " [ 3.11  2.97]\n",
      " [ 2.31  2.8 ]\n",
      " [ 2.55  3.59]\n",
      " [ 7.1   7.11]\n",
      " [ 5.15  6.35]\n",
      " [ 2.66  2.34]\n",
      " [ 3.3   2.85]\n",
      " [ 6.96  7.16]\n",
      " [ 2.98  2.88]\n",
      " [ 2.95  2.84]\n",
      " [ 4.12  3.48]\n",
      " [ 1.79  1.74]\n",
      " [ 6.68  5.82]\n",
      " [ 6.55  8.  ]\n",
      " [ 7.67  6.74]\n",
      " [10.3  13.05]\n",
      " [ 4.19  3.72]\n",
      " [ 6.17  7.14]\n",
      " [ 2.55  2.73]\n",
      " [ 2.69  2.8 ]\n",
      " [ 2.19  2.49]\n",
      " [ 3.87  2.67]\n",
      " [ 3.    3.28]\n",
      " [ 8.69  7.54]\n",
      " [ 3.59  4.29]]\n"
     ]
    }
   ],
   "source": []
  },
  {
   "cell_type": "code",
   "execution_count": null,
   "metadata": {},
   "outputs": [],
   "source": []
  }
 ],
 "metadata": {
  "kernelspec": {
   "display_name": "Python 3",
   "language": "python",
   "name": "python3"
  },
  "language_info": {
   "codemirror_mode": {
    "name": "ipython",
    "version": 3
   },
   "file_extension": ".py",
   "mimetype": "text/x-python",
   "name": "python",
   "nbconvert_exporter": "python",
   "pygments_lexer": "ipython3",
   "version": "3.9.0"
  }
 },
 "nbformat": 4,
 "nbformat_minor": 4
}
